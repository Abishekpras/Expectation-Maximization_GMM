{
 "cells": [
  {
   "cell_type": "markdown",
   "metadata": {},
   "source": [
    "## 1.Expectation Maximization for GMM"
   ]
  },
  {
   "cell_type": "code",
   "execution_count": 498,
   "metadata": {
    "collapsed": true
   },
   "outputs": [],
   "source": [
    "# Sample from GMM 0.5 * N(5,1) + 0.5 * N(-5, 1)\n",
    "import numpy as np\n",
    "m1, m2, s1, s2 = 5, -5, 1, 1\n",
    "w = 0.5\n",
    "n = 500"
   ]
  },
  {
   "cell_type": "code",
   "execution_count": 499,
   "metadata": {
    "collapsed": true
   },
   "outputs": [],
   "source": [
    "def GMM_sample(nsamples, m1, s1, m2, s2, w):\n",
    "    toss = np.random.rand(nsamples)\n",
    "    \n",
    "    sd = s1*np.ones(nsamples)\n",
    "    sd[toss>w] = s2*np.ones(sd[toss>w].size)\n",
    "    \n",
    "    mu = m1*np.ones(nsamples)\n",
    "    mu[toss>w] = m2*np.ones(mu[toss>w].size)\n",
    "    \n",
    "    gauss = np.random.randn(nsamples)\n",
    "    gauss = (sd*gauss) + mu\n",
    "    return np.array([round(x, 5) for x in gauss])"
   ]
  },
  {
   "cell_type": "code",
   "execution_count": 500,
   "metadata": {},
   "outputs": [
    {
     "data": {
      "image/png": "[encoded data removed]",
      "text/plain": [
       "<matplotlib.figure.Figure at 0x290e9843ba8>"
      ]
     },
     "metadata": {},
     "output_type": "display_data"
    }
   ],
   "source": [
    "g = GMM_sample(n, m1, s1, m2, s2, w)\n",
    "import matplotlib.pyplot as plt\n",
    "plt.scatter(range(n), g)\n",
    "plt.show()"
   ]
  },
  {
   "cell_type": "code",
   "execution_count": 501,
   "metadata": {
    "scrolled": true
   },
   "outputs": [
    {
     "data": {
      "image/png": "[encoded data removed]",
      "text/plain": [
       "<matplotlib.figure.Figure at 0x290e96d17f0>"
      ]
     },
     "metadata": {},
     "output_type": "display_data"
    }
   ],
   "source": [
    "plt.hist(g, bins=30)\n",
    "plt.show()"
   ]
  },
  {
   "cell_type": "code",
   "execution_count": 502,
   "metadata": {},
   "outputs": [],
   "source": [
    "from math import pi, sqrt\n",
    "gaussian = lambda x,m,s: np.exp(-1*0.5*((x-m)/s)**2)/(sqrt(2*pi)*s)"
   ]
  },
  {
   "cell_type": "code",
   "execution_count": 503,
   "metadata": {},
   "outputs": [],
   "source": [
    "# INITIALIZATION\n",
    "def init_data(g, n):\n",
    "    X = g.copy()\n",
    "    m1, m2 = X[np.random.choice(n, 2, False)]\n",
    "    prior_1 = np.random.rand()\n",
    "    s1, s2 = np.std(X), np.std(X)\n",
    "    prior_2 = 1-prior_1\n",
    "    Theta = (prior_1, prior_2, m1, m2, s1, s2)\n",
    "    log_likelihood = []\n",
    "    return Theta, log_likelihood"
   ]
  },
  {
   "cell_type": "code",
   "execution_count": 504,
   "metadata": {
    "collapsed": true
   },
   "outputs": [],
   "source": [
    "Theta, log_likelihood = init_data(g,n)"
   ]
  },
  {
   "cell_type": "code",
   "execution_count": 505,
   "metadata": {
    "collapsed": true
   },
   "outputs": [],
   "source": [
    "def expectation(X, Theta):\n",
    "    prior_1, prior_2, m1, m2, s1, s2 = Theta\n",
    "    p1_joint = gaussian(X,m1,s1)*prior_1\n",
    "    p2_joint = gaussian(X,m2,s2)*prior_2\n",
    "    px = p1_joint+p2_joint\n",
    "    p1 = p1_joint/px\n",
    "    p2 = p2_joint/px\n",
    "    return np.vstack((p1,p2))"
   ]
  },
  {
   "cell_type": "code",
   "execution_count": 506,
   "metadata": {},
   "outputs": [],
   "source": [
    "def maximization(p, X):\n",
    "    nsize = X.size\n",
    "    sum_1 = sum(p[0])\n",
    "    sum_2 = sum(p[1])\n",
    "    \n",
    "    prior_1 = sum_1/nsize\n",
    "    prior_2 = sum_2/nsize\n",
    "    \n",
    "    m1 = round(p[0].dot(X)/sum_1, 5)\n",
    "    m2 = round(p[1].dot(X)/sum_2, 5)\n",
    "    \n",
    "    s1 = round(sqrt(p[0].dot((X-m1)**2)/sum_1), 5)\n",
    "    s2 = round(sqrt(p[1].dot((X-m2)**2)/sum_2), 5)\n",
    "    \n",
    "    return (prior_1, prior_2, m1, m2, s1, s2)"
   ]
  },
  {
   "cell_type": "code",
   "execution_count": 507,
   "metadata": {
    "collapsed": true
   },
   "outputs": [],
   "source": [
    "def likelihood(X, Theta):\n",
    "    prior_1, prior_2, m1, m2, s1, s2 = Theta\n",
    "    p1_joint = gaussian(X,m1,s1)*prior_1\n",
    "    p2_joint = gaussian(X,m2,s2)*prior_2\n",
    "    px = p1_joint+p2_joint\n",
    "    return sum(np.log(px))"
   ]
  },
  {
   "cell_type": "code",
   "execution_count": 508,
   "metadata": {
    "collapsed": true
   },
   "outputs": [],
   "source": [
    "no_processing = lambda x: x"
   ]
  },
  {
   "cell_type": "code",
   "execution_count": 509,
   "metadata": {},
   "outputs": [],
   "source": [
    "def EM(X, Theta, et, log_likelihood, ix=1, ll=1e3):\n",
    "    if(abs(ll - likelihood(X, Theta)) < 0.01):\n",
    "        return log_likelihood\n",
    "    prior_1, prior_2, m1, m2, s1, s2 = Theta\n",
    "    print('Iteration-{}:\\n Prior_1 => {}\\n Prior_2 => {}\\n Mean1 => {}\\n Mean2 => {}\\n Sd1 => {}\\n Sd2 => {}'.format(ix,\n",
    "                                                                                                                     prior_1,\n",
    "                                                                                                                     prior_2,\n",
    "                                                                                                                     m1, m2,\n",
    "                                                                                                                     s1, s2))\n",
    "    ll = likelihood(X, Theta)\n",
    "    print('Likelihood => {}'.format(ll))\n",
    "    print()\n",
    "    \n",
    "    log_likelihood.append(ll)\n",
    "    \n",
    "    p = expectation(X, Theta)\n",
    "    Theta = maximization(p, X)\n",
    "    \n",
    "    Theta = et(Theta)\n",
    "    \n",
    "    return EM(X, Theta, et, log_likelihood, ix+1, ll)"
   ]
  },
  {
   "cell_type": "markdown",
   "metadata": {},
   "source": [
    "#### <u>EM with no extra information</u>\n",
    "***"
   ]
  },
  {
   "cell_type": "code",
   "execution_count": 510,
   "metadata": {},
   "outputs": [
    {
     "name": "stdout",
     "output_type": "stream",
     "text": [
      "Iteration-1:\n",
      " Prior_1 => 0.9315180620836876\n",
      " Prior_2 => 0.06848193791631241\n",
      " Mean1 => 6.2053\n",
      " Mean2 => -3.49134\n",
      " Sd1 => 5.079309751137751\n",
      " Sd2 => 5.079309751137751\n",
      "Likelihood => -1819.263776612168\n",
      "\n",
      "Iteration-2:\n",
      " Prior_1 => 0.7461245514446189\n",
      " Prior_2 => 0.2538754485553812\n",
      " Mean1 => 1.0492\n",
      " Mean2 => -4.87804\n",
      " Sd1 => 4.95915\n",
      " Sd2 => 2.04647\n",
      "Likelihood => -1433.408180882491\n",
      "\n",
      "Iteration-3:\n",
      " Prior_1 => 0.6663971761553291\n",
      " Prior_2 => 0.3336028238446715\n",
      " Mean1 => 1.87856\n",
      " Mean2 => -5.11822\n",
      " Sd1 => 4.72832\n",
      " Sd2 => 0.92544\n",
      "Likelihood => -1313.8721981472843\n",
      "\n",
      "Iteration-4:\n",
      " Prior_1 => 0.566287829400926\n",
      " Prior_2 => 0.43371217059907424\n",
      " Mean1 => 3.12728\n",
      " Mean2 => -5.13365\n",
      " Sd1 => 3.98758\n",
      " Sd2 => 0.83487\n",
      "Likelihood => -1261.3496760565483\n",
      "\n",
      "Iteration-5:\n",
      " Prior_1 => 0.5056040895326622\n",
      " Prior_2 => 0.4943959104673378\n",
      " Mean1 => 4.11573\n",
      " Mean2 => -5.13053\n",
      " Sd1 => 2.92588\n",
      " Sd2 => 0.86344\n",
      "Likelihood => -1198.221814649487\n",
      "\n",
      "Iteration-6:\n",
      " Prior_1 => 0.4689568366205473\n",
      " Prior_2 => 0.5310431633794526\n",
      " Mean1 => 4.79162\n",
      " Mean2 => -5.08932\n",
      " Sd1 => 1.67309\n",
      " Sd2 => 0.91102\n",
      "Likelihood => -1096.7917936895929\n",
      "\n",
      "Iteration-7:\n",
      " Prior_1 => 0.4560510538680165\n",
      " Prior_2 => 0.5439489461319832\n",
      " Mean1 => 5.01082\n",
      " Mean2 => -5.03866\n",
      " Sd1 => 1.05404\n",
      " Sd2 => 0.96642\n",
      "Likelihood => -1056.299352150878\n",
      "\n"
     ]
    }
   ],
   "source": [
    "train_ll = EM(X, Theta, no_processing, log_likelihood)"
   ]
  },
  {
   "cell_type": "code",
   "execution_count": 511,
   "metadata": {
    "collapsed": true
   },
   "outputs": [],
   "source": [
    "def plt_nll(train_ll):\n",
    "    train_ll = np.array(train_ll)\n",
    "    train_ll*=-1\n",
    "    plt.plot(train_ll)\n",
    "    plt.ylabel('Neg Log Likelihood')\n",
    "    plt.xlabel('Iteration')\n",
    "    plt.show()"
   ]
  },
  {
   "cell_type": "code",
   "execution_count": 512,
   "metadata": {},
   "outputs": [
    {
     "data": {
      "image/png": "[encoded data removed]",
      "text/plain": [
       "<matplotlib.figure.Figure at 0x290e9910cf8>"
      ]
     },
     "metadata": {},
     "output_type": "display_data"
    }
   ],
   "source": [
    "plt_nll(train_ll)"
   ]
  },
  {
   "cell_type": "markdown",
   "metadata": {},
   "source": [
    "#### <u>EM with true std devn fixed</u>\n",
    "***"
   ]
  },
  {
   "cell_type": "code",
   "execution_count": 513,
   "metadata": {
    "collapsed": true
   },
   "outputs": [],
   "source": [
    "# INITIALIZATION\n",
    "Theta, log_likelihood = init_data(g,n)\n",
    "\n",
    "def fix_std(Theta):\n",
    "    Theta = list(Theta[:-2])\n",
    "    Theta.extend([1,1])\n",
    "    return Theta\n",
    "\n",
    "known_std = lambda x: fix_std(x)\n",
    "Theta = known_std(Theta)"
   ]
  },
  {
   "cell_type": "code",
   "execution_count": 514,
   "metadata": {},
   "outputs": [
    {
     "name": "stdout",
     "output_type": "stream",
     "text": [
      "Iteration-1:\n",
      " Prior_1 => 0.2755788651378188\n",
      " Prior_2 => 0.7244211348621812\n",
      " Mean1 => -4.11477\n",
      " Mean2 => 4.94196\n",
      " Sd1 => 1\n",
      " Sd2 => 1\n",
      "Likelihood => -1253.208693180179\n",
      "\n",
      "Iteration-2:\n",
      " Prior_1 => 0.5440000001269992\n",
      " Prior_2 => 0.4559999998730008\n",
      " Mean1 => -5.0384\n",
      " Mean2 => 5.01164\n",
      " Sd1 => 1\n",
      " Sd2 => 1\n",
      "Likelihood => -1057.190906760032\n",
      "\n"
     ]
    }
   ],
   "source": [
    "train_ll = EM(X, Theta, known_std, log_likelihood)"
   ]
  },
  {
   "cell_type": "code",
   "execution_count": 515,
   "metadata": {},
   "outputs": [
    {
     "data": {
      "image/png": "[encoded data removed]",
      "text/plain": [
       "<matplotlib.figure.Figure at 0x290e9ab7978>"
      ]
     },
     "metadata": {},
     "output_type": "display_data"
    }
   ],
   "source": [
    "plt_nll(train_ll)"
   ]
  },
  {
   "cell_type": "markdown",
   "metadata": {},
   "source": [
    "#### <u>EM with true mean fixed</u>\n",
    "***"
   ]
  },
  {
   "cell_type": "code",
   "execution_count": 516,
   "metadata": {
    "collapsed": true
   },
   "outputs": [],
   "source": [
    "# INITIALIZATION\n",
    "Theta, log_likelihood = init_data(g,n)\n",
    "\n",
    "def fix_mu(Theta):\n",
    "    Theta = list(Theta)\n",
    "    Theta[2:4] = [-5, 5]\n",
    "    return Theta\n",
    "\n",
    "known_mu = lambda x: fix_mu(x)\n",
    "Theta = known_mu(Theta)"
   ]
  },
  {
   "cell_type": "code",
   "execution_count": 517,
   "metadata": {},
   "outputs": [
    {
     "name": "stdout",
     "output_type": "stream",
     "text": [
      "Iteration-1:\n",
      " Prior_1 => 0.8710209629176179\n",
      " Prior_2 => 0.12897903708238212\n",
      " Mean1 => -5\n",
      " Mean2 => 5\n",
      " Sd1 => 5.079309751137751\n",
      " Sd2 => 5.079309751137751\n",
      "Likelihood => -1621.3569607364182\n",
      "\n",
      "Iteration-2:\n",
      " Prior_1 => 0.7565651557716739\n",
      " Prior_2 => 0.24343484422832537\n",
      " Mean1 => -5\n",
      " Mean2 => 5\n",
      " Sd1 => 4.60515\n",
      " Sd2 => 2.37917\n",
      "Likelihood => -1460.6883216810504\n",
      "\n",
      "Iteration-3:\n",
      " Prior_1 => 0.6123058732635456\n",
      " Prior_2 => 0.3876941267364545\n",
      " Mean1 => -5\n",
      " Mean2 => 5\n",
      " Sd1 => 3.1805\n",
      " Sd2 => 1.04407\n",
      "Likelihood => -1256.8601122475711\n",
      "\n",
      "Iteration-4:\n",
      " Prior_1 => 0.5520901692947988\n",
      " Prior_2 => 0.44790983070520085\n",
      " Mean1 => -5\n",
      " Mean2 => 5\n",
      " Sd1 => 1.38872\n",
      " Sd2 => 1.02286\n",
      "Likelihood => -1085.0839216956022\n",
      "\n",
      "Iteration-5:\n",
      " Prior_1 => 0.544000223222966\n",
      " Prior_2 => 0.455999776777034\n",
      " Mean1 => -5\n",
      " Mean2 => 5\n",
      " Sd1 => 0.96675\n",
      " Sd2 => 1.05124\n",
      "Likelihood => -1056.526176444366\n",
      "\n"
     ]
    }
   ],
   "source": [
    "train_ll = EM(X, Theta, known_mu, log_likelihood)"
   ]
  },
  {
   "cell_type": "code",
   "execution_count": 518,
   "metadata": {},
   "outputs": [
    {
     "data": {
      "image/png": "[encoded data removed]",
      "text/plain": [
       "<matplotlib.figure.Figure at 0x290e95b3390>"
      ]
     },
     "metadata": {},
     "output_type": "display_data"
    }
   ],
   "source": [
    "plt_nll(train_ll)"
   ]
  },
  {
   "cell_type": "markdown",
   "metadata": {},
   "source": [
    "#### <u>EM with spurious mean fixed</u>\n",
    "***"
   ]
  },
  {
   "cell_type": "code",
   "execution_count": 522,
   "metadata": {
    "collapsed": true
   },
   "outputs": [],
   "source": [
    "# INITIALIZATION\n",
    "Theta, log_likelihood = init_data(g,n)\n",
    "\n",
    "def fix_wrong_mu(Theta):\n",
    "    Theta = list(Theta)\n",
    "    Theta[2:4] = [5, 0]\n",
    "    return Theta\n",
    "\n",
    "known_wrong_mu = lambda x: fix_wrong_mu(x)\n",
    "Theta = known_wrong_mu(Theta)"
   ]
  },
  {
   "cell_type": "code",
   "execution_count": 523,
   "metadata": {},
   "outputs": [
    {
     "name": "stdout",
     "output_type": "stream",
     "text": [
      "Iteration-1:\n",
      " Prior_1 => 0.7709075282754854\n",
      " Prior_2 => 0.22909247172451463\n",
      " Mean1 => 5\n",
      " Mean2 => 0\n",
      " Sd1 => 5.079309751137751\n",
      " Sd2 => 5.079309751137751\n",
      "Likelihood => -1678.850202262349\n",
      "\n",
      "Iteration-2:\n",
      " Prior_1 => 0.6235145103868197\n",
      " Prior_2 => 0.3764854896131808\n",
      " Mean1 => 5\n",
      " Mean2 => 0\n",
      " Sd1 => 4.95846\n",
      " Sd2 => 4.01799\n",
      "Likelihood => -1645.8654317979754\n",
      "\n",
      "Iteration-3:\n",
      " Prior_1 => 0.4894408552442226\n",
      " Prior_2 => 0.5105591447557773\n",
      " Mean1 => 5\n",
      " Mean2 => 0\n",
      " Sd1 => 4.76239\n",
      " Sd2 => 4.25129\n",
      "Likelihood => -1604.4702919427139\n",
      "\n",
      "Iteration-4:\n",
      " Prior_1 => 0.3742910967381738\n",
      " Prior_2 => 0.6257089032618257\n",
      " Mean1 => 5\n",
      " Mean2 => 0\n",
      " Sd1 => 4.35823\n",
      " Sd2 => 4.49413\n",
      "Likelihood => -1572.4699664756881\n",
      "\n",
      "Iteration-5:\n",
      " Prior_1 => 0.28542057022606476\n",
      " Prior_2 => 0.7145794297739351\n",
      " Mean1 => 5\n",
      " Mean2 => 0\n",
      " Sd1 => 3.67334\n",
      " Sd2 => 4.64442\n",
      "Likelihood => -1546.562756130085\n",
      "\n",
      "Iteration-6:\n",
      " Prior_1 => 0.2277499535348105\n",
      " Prior_2 => 0.7722500464651901\n",
      " Mean1 => 5\n",
      " Mean2 => 0\n",
      " Sd1 => 2.46721\n",
      " Sd2 => 4.71237\n",
      "Likelihood => -1508.0385523454936\n",
      "\n",
      "Iteration-7:\n",
      " Prior_1 => 0.22015662814095696\n",
      " Prior_2 => 0.7798433718590428\n",
      " Mean1 => 5\n",
      " Mean2 => 0\n",
      " Sd1 => 1.07126\n",
      " Sd2 => 4.6751\n",
      "Likelihood => -1444.6536069107578\n",
      "\n",
      "Iteration-8:\n",
      " Prior_1 => 0.2662807458089374\n",
      " Prior_2 => 0.7337192541910631\n",
      " Mean1 => 5\n",
      " Mean2 => 0\n",
      " Sd1 => 0.84597\n",
      " Sd2 => 4.4923\n",
      "Likelihood => -1434.9784019221545\n",
      "\n",
      "Iteration-9:\n",
      " Prior_1 => 0.2894960492781629\n",
      " Prior_2 => 0.7105039507218367\n",
      " Mean1 => 5\n",
      " Mean2 => 0\n",
      " Sd1 => 0.77658\n",
      " Sd2 => 4.36805\n",
      "Likelihood => -1436.1515472615695\n",
      "\n",
      "Iteration-10:\n",
      " Prior_1 => 0.29695969386289267\n",
      " Prior_2 => 0.7030403061371069\n",
      " Mean1 => 5\n",
      " Mean2 => 0\n",
      " Sd1 => 0.75276\n",
      " Sd2 => 4.32181\n",
      "Likelihood => -1437.3749562543694\n",
      "\n",
      "Iteration-11:\n",
      " Prior_1 => 0.29870262296710426\n",
      " Prior_2 => 0.7012973770328955\n",
      " Mean1 => 5\n",
      " Mean2 => 0\n",
      " Sd1 => 0.74369\n",
      " Sd2 => 4.31105\n",
      "Likelihood => -1437.709950038515\n",
      "\n"
     ]
    }
   ],
   "source": [
    "train_ll = EM(X, Theta, known_wrong_mu, log_likelihood)"
   ]
  },
  {
   "cell_type": "code",
   "execution_count": 524,
   "metadata": {},
   "outputs": [
    {
     "data": {
      "image/png": "[encoded data removed]",
      "text/plain": [
       "<matplotlib.figure.Figure at 0x290e9947160>"
      ]
     },
     "metadata": {},
     "output_type": "display_data"
    }
   ],
   "source": [
    "plt_nll(train_ll)"
   ]
  },
  {
   "cell_type": "code",
   "execution_count": null,
   "metadata": {
    "collapsed": true
   },
   "outputs": [],
   "source": []
  }
 ],
 "metadata": {
  "kernelspec": {
   "display_name": "Python 3",
   "language": "python",
   "name": "python3"
  },
  "language_info": {
   "codemirror_mode": {
    "name": "ipython",
    "version": 3
   },
   "file_extension": ".py",
   "mimetype": "text/x-python",
   "name": "python",
   "nbconvert_exporter": "python",
   "pygments_lexer": "ipython3",
   "version": "3.6.1"
  }
 },
 "nbformat": 4,
 "nbformat_minor": 2
}
